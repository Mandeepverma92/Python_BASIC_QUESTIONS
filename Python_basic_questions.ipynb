{
 "cells": [
  {
   "cell_type": "markdown",
   "id": "b452d8fe",
   "metadata": {},
   "source": [
    "# fibonacci series"
   ]
  },
  {
   "cell_type": "code",
   "execution_count": 9,
   "id": "65ad785f",
   "metadata": {},
   "outputs": [
    {
     "name": "stdout",
     "output_type": "stream",
     "text": [
      "enter any number :5\n",
      "0 1 1 2 3 "
     ]
    }
   ],
   "source": [
    "num = int(input(\"enter any number :\"))\n",
    "n1 ,n2 = 0,1\n",
    "sum = 0\n",
    "if num <= 0:\n",
    "    print(\"Please enter number greater than 0\")\n",
    "else:\n",
    "    for i in range(0,num):\n",
    "        print(sum ,end = \" \")\n",
    "        n1 = n2\n",
    "        n2 = sum\n",
    "        sum =n1 + n2"
   ]
  },
  {
   "cell_type": "markdown",
   "id": "7ab17797",
   "metadata": {},
   "source": [
    "# print the multiplication of a number n"
   ]
  },
  {
   "cell_type": "code",
   "execution_count": 10,
   "id": "c4b40b3a",
   "metadata": {},
   "outputs": [
    {
     "name": "stdout",
     "output_type": "stream",
     "text": [
      "3\n",
      "6\n",
      "9\n",
      "12\n",
      "15\n",
      "18\n",
      "21\n",
      "24\n",
      "27\n",
      "30\n"
     ]
    }
   ],
   "source": [
    "i=1\n",
    "while i <= 10:\n",
    "    print(3*i)\n",
    "    i +=1"
   ]
  },
  {
   "cell_type": "code",
   "execution_count": 11,
   "id": "91b17480",
   "metadata": {},
   "outputs": [
    {
     "name": "stdout",
     "output_type": "stream",
     "text": [
      "1\n",
      "4\n",
      "9\n",
      "16\n",
      "25\n",
      "36\n",
      "49\n",
      "64\n",
      "81\n",
      "100\n"
     ]
    }
   ],
   "source": [
    "# print the elements of the following list using a loop\n",
    "#[1,4,9,16,25,36,49,64,81,100]\n",
    "\n",
    "\n",
    "\n",
    "nums =[1,4,9,16,25,36,49,64,81,100]\n",
    "idx = 0\n",
    "while idx < len(nums):\n",
    "    print(nums[idx])  #nums[0],nums[1],nums[2]...\n",
    "    idx += 1"
   ]
  },
  {
   "cell_type": "code",
   "execution_count": null,
   "id": "76dff743",
   "metadata": {},
   "outputs": [],
   "source": [
    "#table of any number using range"
   ]
  },
  {
   "cell_type": "code",
   "execution_count": 12,
   "id": "826aa78c",
   "metadata": {},
   "outputs": [
    {
     "name": "stdout",
     "output_type": "stream",
     "text": [
      "enter a number : 5\n",
      "5\n",
      "10\n",
      "15\n",
      "20\n",
      "25\n",
      "30\n",
      "35\n",
      "40\n",
      "45\n",
      "50\n"
     ]
    }
   ],
   "source": [
    "n = int(input(\"enter a number : \"))\n",
    "for i in range(1,11):\n",
    "    print(n * i)"
   ]
  },
  {
   "cell_type": "code",
   "execution_count": null,
   "id": "8f9f128b",
   "metadata": {},
   "outputs": [],
   "source": [
    "#ODD_EVEN"
   ]
  },
  {
   "cell_type": "code",
   "execution_count": 68,
   "id": "e8c4e460",
   "metadata": {},
   "outputs": [
    {
     "name": "stdout",
     "output_type": "stream",
     "text": [
      "enter any number :4\n",
      "even \n"
     ]
    }
   ],
   "source": [
    "num = int(input(\"enter any number :\"))\n",
    "if num % 2 == 0:\n",
    "    print(\"even \")\n",
    "else:\n",
    "    print(\"odd \")"
   ]
  },
  {
   "cell_type": "code",
   "execution_count": null,
   "id": "4e9e8380",
   "metadata": {},
   "outputs": [],
   "source": [
    "#PRIME_NUMBER"
   ]
  },
  {
   "cell_type": "code",
   "execution_count": 37,
   "id": "37d47128",
   "metadata": {},
   "outputs": [
    {
     "name": "stdout",
     "output_type": "stream",
     "text": [
      "Enter a number: 565455\n",
      "565455 is not a prime number.\n"
     ]
    }
   ],
   "source": [
    "def is_prime(num):\n",
    "    if num <= 1:\n",
    "        return False\n",
    "    for i in range(2, num):\n",
    "        if num % i == 0:\n",
    "            return False\n",
    "    return True\n",
    "\n",
    "num = int(input(\"Enter a number: \"))\n",
    "if is_prime(num):\n",
    "    print(num, \"is a prime number.\")\n",
    "else:\n",
    "    print(num, \"is not a prime number.\") "
   ]
  },
  {
   "cell_type": "code",
   "execution_count": null,
   "id": "9d3f95bc",
   "metadata": {},
   "outputs": [],
   "source": [
    "num = int(input(\"enter any number: \"))\n",
    "count = 0\n",
    "for i in range(1,num+1):\n",
    "    if num % i == 0:\n",
    "        count +=1\n",
    "if count == 2:\n",
    "    print(num,\"is a prime number \")"
   ]
  },
  {
   "cell_type": "code",
   "execution_count": null,
   "id": "d369c228",
   "metadata": {},
   "outputs": [],
   "source": []
  },
  {
   "cell_type": "markdown",
   "id": "df9e31eb",
   "metadata": {},
   "source": [
    "# palindrome"
   ]
  },
  {
   "cell_type": "code",
   "execution_count": 42,
   "id": "9780efff",
   "metadata": {},
   "outputs": [
    {
     "name": "stdout",
     "output_type": "stream",
     "text": [
      "enter any word :mandeep\n",
      "word is not palindrome\n"
     ]
    }
   ],
   "source": [
    "word = input(\"enter any word :\")\n",
    "if word ==word[::-1]:\n",
    "    print(\"word is palindrome\")\n",
    "else:\n",
    "    print(\"word is not palindrome\")"
   ]
  },
  {
   "cell_type": "code",
   "execution_count": 44,
   "id": "9b66b7be",
   "metadata": {},
   "outputs": [
    {
     "name": "stdout",
     "output_type": "stream",
     "text": [
      "Enter a word: mom\n",
      "mom is a palindrome.\n"
     ]
    }
   ],
   "source": [
    "def is_palindrome(word):\n",
    "    return word == word[::-1]\n",
    "word = input(\"Enter a word: \")\n",
    "if is_palindrome(word):\n",
    "    print(word, \"is a palindrome.\")\n",
    "else:\n",
    "    print(word, \"is not a palindrome.\")"
   ]
  },
  {
   "cell_type": "code",
   "execution_count": 2,
   "id": "b72362f3",
   "metadata": {},
   "outputs": [
    {
     "name": "stdout",
     "output_type": "stream",
     "text": [
      "Enter a word: mom\n",
      "mom is a palindrome!\n"
     ]
    }
   ],
   "source": [
    "def is_palindrome(word):\n",
    "    return word == word[::-1]\n",
    "user_input = input(\"Enter a word: \")\n",
    "if is_palindrome(user_input):\n",
    "    print(f\"{user_input} is a palindrome!\")\n",
    "else:\n",
    "    print(f\"{user_input} is not a palindrome.\")"
   ]
  },
  {
   "cell_type": "code",
   "execution_count": 3,
   "id": "2c1c6940",
   "metadata": {},
   "outputs": [
    {
     "name": "stdout",
     "output_type": "stream",
     "text": [
      "enter a value : mom\n",
      "yess it is palindrome\n"
     ]
    }
   ],
   "source": [
    "s = input(\"enter a value : \")\n",
    "reverse = s [::-1]\n",
    "if (s == reverse):\n",
    "    print(\"yess it is palindrome\")\n",
    "else:\n",
    "    print(\"its not palindrome\")"
   ]
  },
  {
   "cell_type": "code",
   "execution_count": null,
   "id": "bdab846e",
   "metadata": {},
   "outputs": [],
   "source": []
  },
  {
   "cell_type": "code",
   "execution_count": null,
   "id": "6962a845",
   "metadata": {},
   "outputs": [],
   "source": [
    "#revere letter of a name"
   ]
  },
  {
   "cell_type": "code",
   "execution_count": 46,
   "id": "b475ad77",
   "metadata": {},
   "outputs": [
    {
     "name": "stdout",
     "output_type": "stream",
     "text": [
      "Enter a name: mandeep\n",
      "Reversed name: peednam\n"
     ]
    }
   ],
   "source": [
    "def reverse_name(name):\n",
    "    reversed_name = \"\"\n",
    "    for char in name:\n",
    "        reversed_name = char + reversed_name\n",
    "    return reversed_name\n",
    "name = input(\"Enter a name: \")\n",
    "reversed_name = reverse_name(name)\n",
    "print(\"Reversed name:\", reversed_name)"
   ]
  },
  {
   "cell_type": "code",
   "execution_count": null,
   "id": "3edf2102",
   "metadata": {},
   "outputs": [],
   "source": [
    "#reverse letter name as a list "
   ]
  },
  {
   "cell_type": "code",
   "execution_count": 52,
   "id": "3f9e8868",
   "metadata": {},
   "outputs": [
    {
     "name": "stdout",
     "output_type": "stream",
     "text": [
      "Enter a name: vipul\n",
      "Reversed name: l,u,p,i,v\n"
     ]
    }
   ],
   "source": [
    "def reverse_name(name):\n",
    "    reversed_name = []\n",
    "    for i in range(len(name) - 1, -1, -1):\n",
    "        reversed_name.append(name[i])\n",
    "    return \",\".join(reversed_name)\n",
    "\n",
    "name = input(\"Enter a name: \")\n",
    "reversed_name_str = reverse_name(name)\n",
    "print(\"Reversed name:\", reversed_name_str)"
   ]
  },
  {
   "cell_type": "code",
   "execution_count": null,
   "id": "6cd50253",
   "metadata": {},
   "outputs": [],
   "source": [
    "#reverse letter name as a list "
   ]
  },
  {
   "cell_type": "code",
   "execution_count": 59,
   "id": "2501ecba",
   "metadata": {},
   "outputs": [
    {
     "name": "stdout",
     "output_type": "stream",
     "text": [
      "enter any word :VIPUL\n",
      "L\n",
      "U\n",
      "P\n",
      "I\n",
      "V\n"
     ]
    }
   ],
   "source": [
    "word =input(\"enter any word :\")\n",
    "word = word[::-1]\n",
    "for letter in word:\n",
    "    print(letter)"
   ]
  },
  {
   "cell_type": "code",
   "execution_count": null,
   "id": "480cdd80",
   "metadata": {},
   "outputs": [],
   "source": [
    "#reverse letter name as a list "
   ]
  },
  {
   "cell_type": "code",
   "execution_count": 63,
   "id": "c08630ac",
   "metadata": {},
   "outputs": [
    {
     "name": "stdout",
     "output_type": "stream",
     "text": [
      "enter any word :VIPUL\n",
      "L,U,P,I,V\n"
     ]
    }
   ],
   "source": [
    "word =input(\"enter any word :\")\n",
    "word = word[::-1]\n",
    "output = \",\".join(word)\n",
    "print(output)"
   ]
  },
  {
   "cell_type": "code",
   "execution_count": null,
   "id": "ee8467e6",
   "metadata": {},
   "outputs": [],
   "source": [
    "#reverse letter name as a list "
   ]
  },
  {
   "cell_type": "code",
   "execution_count": 66,
   "id": "37518f94",
   "metadata": {},
   "outputs": [
    {
     "name": "stdout",
     "output_type": "stream",
     "text": [
      "enter any word :Mandeep\n",
      "p ,e ,e ,d ,n ,a ,M\n"
     ]
    }
   ],
   "source": [
    "word =input(\"enter any word :\")\n",
    "word = word[::-1]\n",
    "for i in range(len(word)):\n",
    "    if i != len(word):\n",
    "        if i !=len(word) - 1 :\n",
    "            print(word[i],end=\" ,\")\n",
    "        else:\n",
    "            print(word[i])\n",
    "        "
   ]
  },
  {
   "cell_type": "code",
   "execution_count": null,
   "id": "c150c3e5",
   "metadata": {},
   "outputs": [],
   "source": [
    "# number divisible by 3"
   ]
  },
  {
   "cell_type": "code",
   "execution_count": 72,
   "id": "a5f212f0",
   "metadata": {},
   "outputs": [
    {
     "name": "stdout",
     "output_type": "stream",
     "text": [
      "enter any number 4\n",
      "4 is not divisible by 3\n"
     ]
    }
   ],
   "source": [
    "def num_is_divisible_by_3(num):\n",
    "    if num % 3 ==0:\n",
    "        print(f\"{num} is divisible by 3\")\n",
    "    else:\n",
    "        print(f\"{num} is not divisible by 3\")\n",
    "user_input = int(input(\"enter any number \")) \n",
    "num_is_divisible_by_3(user_input)        "
   ]
  },
  {
   "cell_type": "code",
   "execution_count": 77,
   "id": "b50d5e09",
   "metadata": {},
   "outputs": [
    {
     "name": "stdout",
     "output_type": "stream",
     "text": [
      "enter any number 42\n",
      "42 is not divisible by 5\n"
     ]
    }
   ],
   "source": [
    "#number is divisible by 5\n",
    "\n",
    "\n",
    "def num_is_divisible_by_5(num):\n",
    "    if num % 5 ==0:\n",
    "        print(f\"{num} is divisible by 5\")\n",
    "    else:\n",
    "        print(f\"{num} is not divisible by 5\")\n",
    "user_input = int(input(\"enter any number \")) \n",
    "num_is_divisible_by_5(user_input) "
   ]
  },
  {
   "cell_type": "markdown",
   "id": "7464f826",
   "metadata": {},
   "source": [
    "# write the program if the sum of three number is 100 and one number is above 36 then find to get the another two number in python"
   ]
  },
  {
   "cell_type": "code",
   "execution_count": 1,
   "id": "926391a4",
   "metadata": {},
   "outputs": [
    {
     "name": "stdout",
     "output_type": "stream",
     "text": [
      "Enter a number greater than 36: 37\n",
      "The three numbers are: 37, 31, and 32\n",
      "Their sum is: 100\n"
     ]
    }
   ],
   "source": [
    "\n",
    "sum_of_numbers = 100\n",
    "num1 = int(input(\"Enter a number greater than 36: \"))\n",
    "\n",
    "# Check if the entered number is greater than 36\n",
    "if num1 <= 36:\n",
    "    print(\"The number should be greater than 36.\")\n",
    "else:\n",
    "    # Calculate the sum of the remaining two numbers\n",
    "    remaining_sum = sum_of_numbers - num1\n",
    "\n",
    "    # For simplicity, let's assume the two remaining numbers can be equal or close\n",
    "    # Divide the remaining sum by 2 to find two approximate equal numbers\n",
    "    num2 = remaining_sum // 2\n",
    "    num3 = remaining_sum - num2\n",
    "\n",
    "    # Output the results\n",
    "    print(f\"The three numbers are: {num1}, {num2}, and {num3}\")\n",
    "    print(f\"Their sum is: {num1 + num2 + num3}\")\n"
   ]
  },
  {
   "cell_type": "markdown",
   "id": "3baa6a60",
   "metadata": {},
   "source": [
    "# Pyramid pattern "
   ]
  },
  {
   "cell_type": "code",
   "execution_count": null,
   "id": "90af2045",
   "metadata": {},
   "outputs": [],
   "source": [
    "rows = int(input(\"Enter the number of rows: \"))\n",
    "\n",
    "# Pyramid pattern\n",
    "for i in range(rows):\n",
    "    print(' ' * (rows - i - 1), end='')\n",
    "    print('*' * (2 * i + 1))"
   ]
  },
  {
   "cell_type": "markdown",
   "id": "3159ade4",
   "metadata": {},
   "source": [
    "# Right-Angle Triangle"
   ]
  },
  {
   "cell_type": "code",
   "execution_count": null,
   "id": "c131aebf",
   "metadata": {},
   "outputs": [],
   "source": [
    "rows = int(input(\"Enter the number of rows: \"))\n",
    "\n",
    "# Right-angle triangle pattern\n",
    "for i in range(1, rows + 1):\n",
    "    print('*' * i)"
   ]
  },
  {
   "cell_type": "markdown",
   "id": "5afb43a3",
   "metadata": {},
   "source": [
    "# print a table of a user input number in the form of LIST using forloop"
   ]
  },
  {
   "cell_type": "code",
   "execution_count": 4,
   "id": "42e811c7",
   "metadata": {},
   "outputs": [
    {
     "name": "stdout",
     "output_type": "stream",
     "text": [
      "enter a number :2\n",
      "[2, 4, 6, 8, 10, 12, 14, 16, 18, 20]\n"
     ]
    }
   ],
   "source": [
    "number = int(input(\"enter a number :\"))\n",
    "table = []\n",
    "\n",
    "for i in range(1, 11):\n",
    "    table.append(number * i)\n",
    "\n",
    "print(table)"
   ]
  },
  {
   "cell_type": "markdown",
   "id": "7b26a2eb",
   "metadata": {},
   "source": [
    "# factorial of a number"
   ]
  },
  {
   "cell_type": "code",
   "execution_count": 6,
   "id": "e425c6fa",
   "metadata": {},
   "outputs": [
    {
     "name": "stdout",
     "output_type": "stream",
     "text": [
      "24\n"
     ]
    }
   ],
   "source": [
    "def factorial(n):\n",
    "    if n == 0:\n",
    "        return 1\n",
    "    else:\n",
    "        return n * factorial(n-1)\n",
    "result = factorial(4)\n",
    "print(result)"
   ]
  },
  {
   "cell_type": "code",
   "execution_count": 7,
   "id": "0459983c",
   "metadata": {},
   "outputs": [
    {
     "name": "stdout",
     "output_type": "stream",
     "text": [
      "Enter a non-negative integer: 5\n",
      "The factorial of 5 is 120.\n"
     ]
    }
   ],
   "source": [
    "# Input from the user\n",
    "num = int(input(\"Enter a non-negative integer: \"))\n",
    "\n",
    "# Initialize the factorial result\n",
    "factorial = 1\n",
    "\n",
    "# Compute factorial using a loop\n",
    "for i in range(1, num + 1):\n",
    "    factorial *= i\n",
    "\n",
    "# Print the result\n",
    "print(f\"The factorial of {num} is {factorial}.\")"
   ]
  },
  {
   "cell_type": "code",
   "execution_count": null,
   "id": "dca868d9",
   "metadata": {},
   "outputs": [],
   "source": [
    "# create a dataframe from the data given below dictionary \n",
    "\n",
    "'Name': ['Alice', 'Bob', 'Charlie', 'David'],\n",
    "    'Age': [25, 30, 35, 40],\n",
    "    'City': ['New York', 'Los Angeles', 'Chicago', 'Houston']"
   ]
  },
  {
   "cell_type": "code",
   "execution_count": 8,
   "id": "8c340a1c",
   "metadata": {},
   "outputs": [
    {
     "name": "stdout",
     "output_type": "stream",
     "text": [
      "      Name  Age         City\n",
      "0    Alice   25     New York\n",
      "1      Bob   30  Los Angeles\n",
      "2  Charlie   35      Chicago\n",
      "3    David   40      Houston\n"
     ]
    }
   ],
   "source": [
    "import pandas as pd\n",
    "data={\n",
    "    'Name': ['Alice', 'Bob', 'Charlie', 'David'],\n",
    "    'Age': [25, 30, 35, 40],\n",
    "    'City': ['New York', 'Los Angeles', 'Chicago', 'Houston']\n",
    "}\n",
    "df=pd.DataFrame(data)\n",
    "print(df)"
   ]
  },
  {
   "cell_type": "markdown",
   "id": "99398e00",
   "metadata": {},
   "source": [
    "# program to convert USD to INR"
   ]
  },
  {
   "cell_type": "code",
   "execution_count": 14,
   "id": "f28bd5b6",
   "metadata": {},
   "outputs": [
    {
     "name": "stdout",
     "output_type": "stream",
     "text": [
      "100 USD = 8300 INR\n"
     ]
    }
   ],
   "source": [
    "def converter(usd_val):\n",
    "    inr_val =usd_val * 83\n",
    "    print(usd_val, \"USD =\",inr_val,\"INR\")\n",
    "converter(100) "
   ]
  },
  {
   "cell_type": "code",
   "execution_count": null,
   "id": "fbded894",
   "metadata": {},
   "outputs": [],
   "source": [
    "#sum of natural number"
   ]
  },
  {
   "cell_type": "code",
   "execution_count": 15,
   "id": "cfd4f188",
   "metadata": {},
   "outputs": [
    {
     "name": "stdout",
     "output_type": "stream",
     "text": [
      "Sum of natural number <=  1 is 1\n",
      "Sum of natural number <=  2 is 3\n",
      "Sum of natural number <=  3 is 6\n",
      "Sum of natural number <=  4 is 10\n",
      "Sum of natural number <=  5 is 15\n",
      "Sum of natural number <=  6 is 21\n",
      "Sum of natural number <=  7 is 28\n",
      "Sum of natural number <=  8 is 36\n"
     ]
    }
   ],
   "source": [
    "sum = 0\n",
    "for n in range(1,9):\n",
    "    sum += n\n",
    "    print(\"Sum of natural number <= \", n , \"is\" ,sum)"
   ]
  },
  {
   "cell_type": "code",
   "execution_count": 16,
   "id": "dbbe6cd0",
   "metadata": {},
   "outputs": [
    {
     "name": "stdout",
     "output_type": "stream",
     "text": [
      "the sum of given  two number is 50\n"
     ]
    }
   ],
   "source": [
    "num1=20\n",
    "num2=30\n",
    "sum=num1+num2\n",
    "print(\"the sum of given  two number is\",sum)"
   ]
  },
  {
   "cell_type": "markdown",
   "id": "6ceb3994",
   "metadata": {},
   "source": [
    "# find even num from 1 to 11"
   ]
  },
  {
   "cell_type": "code",
   "execution_count": 17,
   "id": "2fffc22b",
   "metadata": {},
   "outputs": [
    {
     "name": "stdout",
     "output_type": "stream",
     "text": [
      "EVEN NUMBERS : [2, 4, 6, 8, 10]\n"
     ]
    }
   ],
   "source": [
    "original_list =list(range(1,11))\n",
    "even_num =[num for num in original_list if num % 2 ==0]\n",
    "print(\"EVEN NUMBERS :\" , even_num)"
   ]
  },
  {
   "cell_type": "markdown",
   "id": "c8d6b215",
   "metadata": {},
   "source": [
    "# find odd num from 1 to 11"
   ]
  },
  {
   "cell_type": "code",
   "execution_count": 18,
   "id": "91429570",
   "metadata": {},
   "outputs": [
    {
     "name": "stdout",
     "output_type": "stream",
     "text": [
      "ODD NUMBERS : [1, 3, 5, 7, 9]\n"
     ]
    }
   ],
   "source": [
    "original_list = list(range(1,11))\n",
    "odd_num =[num for num in original_list if num % 2 !=0]\n",
    "print(\"ODD NUMBERS :\" ,odd_num)"
   ]
  },
  {
   "cell_type": "markdown",
   "id": "02e18da2",
   "metadata": {},
   "source": [
    "# create numpy array"
   ]
  },
  {
   "cell_type": "code",
   "execution_count": 19,
   "id": "bb81bdd1",
   "metadata": {},
   "outputs": [
    {
     "name": "stdout",
     "output_type": "stream",
     "text": [
      "NumPy array: [1 2 3 4 5]\n"
     ]
    }
   ],
   "source": [
    "import numpy as np  \n",
    "\n",
    "my_list = [1, 2, 3, 4, 5]\n",
    "my_array = np.array(my_list)\n",
    "\n",
    "print(\"NumPy array:\", my_array)"
   ]
  },
  {
   "cell_type": "markdown",
   "id": "875deb24",
   "metadata": {},
   "source": [
    "# lambda function"
   ]
  },
  {
   "cell_type": "code",
   "execution_count": 20,
   "id": "40d7d3db",
   "metadata": {},
   "outputs": [
    {
     "name": "stdout",
     "output_type": "stream",
     "text": [
      "8\n"
     ]
    }
   ],
   "source": [
    "add = lambda x, y: x + y\n",
    "print(add(5, 3))  "
   ]
  },
  {
   "cell_type": "markdown",
   "id": "772463f8",
   "metadata": {},
   "source": [
    "# create a dataframe"
   ]
  },
  {
   "cell_type": "code",
   "execution_count": 21,
   "id": "b06f0227",
   "metadata": {},
   "outputs": [
    {
     "name": "stdout",
     "output_type": "stream",
     "text": [
      "      Name  Age         City\n",
      "0    Alice   25     New York\n",
      "1      Bob   30  Los Angeles\n",
      "2  Charlie   35      Chicago\n",
      "3     Dave   40      Houston\n"
     ]
    }
   ],
   "source": [
    "import pandas as pd\n",
    "\n",
    "data = {\n",
    "    'Name': ['Alice', 'Bob', 'Charlie', 'Dave'],\n",
    "    'Age': [25, 30, 35, 40],\n",
    "    'City': ['New York', 'Los Angeles', 'Chicago', 'Houston']\n",
    "}\n",
    "\n",
    "df = pd.DataFrame(data)\n",
    "print(df)\n"
   ]
  },
  {
   "cell_type": "markdown",
   "id": "440ca19e",
   "metadata": {},
   "source": [
    "# grading_SCORE"
   ]
  },
  {
   "cell_type": "code",
   "execution_count": 22,
   "id": "21f6bfb6",
   "metadata": {},
   "outputs": [
    {
     "name": "stdout",
     "output_type": "stream",
     "text": [
      "{'Harry': 'Exceeds Expectations', 'Ron': 'Acceptable', 'Hermione': 'Outstanding', 'Draco': 'Acceptable', 'Neville': 'Fail'}\n"
     ]
    }
   ],
   "source": [
    "student_scores = {\n",
    "  \"Harry\": 81,\n",
    "  \"Ron\": 78,\n",
    "  \"Hermione\": 99, \n",
    "  \"Draco\": 74,\n",
    "  \"Neville\": 62,\n",
    "}\n",
    "# 🚨 Don't change the code above 👆\n",
    "\n",
    "#TODO-1: Create an empty dictionary called student_grades.\n",
    "student_grades={}\n",
    "\n",
    "#TODO-2: Write your code below to add the grades to student_grades.👇\n",
    "for student in student_scores:\n",
    "    score = student_scores[student]\n",
    "    if score > 90:\n",
    "        student_grades[student] = \"Outstanding\"\n",
    "    elif score > 80:\n",
    "         student_grades[student] = \"Exceeds Expectations\"\n",
    "    elif score > 70:\n",
    "         student_grades[student] = \"Acceptable\"\n",
    "    else:\n",
    "        student_grades[student] = \"Fail\"\n",
    "    \n",
    "\n",
    "# 🚨 Don't change the code below 👇\n",
    "print(student_grades)"
   ]
  },
  {
   "cell_type": "markdown",
   "id": "1c554233",
   "metadata": {},
   "source": [
    "# highest_score"
   ]
  },
  {
   "cell_type": "code",
   "execution_count": 23,
   "id": "3227423e",
   "metadata": {},
   "outputs": [
    {
     "name": "stdout",
     "output_type": "stream",
     "text": [
      "The highest score in the class is:91\n"
     ]
    }
   ],
   "source": [
    "student_scores=[78,65,89,86,55,91,64,89]\n",
    "highest_score=0\n",
    "for score in student_scores:\n",
    "    if score>highest_score:\n",
    "        highest_score=score\n",
    "print(f\"The highest score in the class is:{highest_score}\")"
   ]
  },
  {
   "cell_type": "markdown",
   "id": "fe16fdf4",
   "metadata": {},
   "source": [
    "# LEAP_YEAR"
   ]
  },
  {
   "cell_type": "code",
   "execution_count": 25,
   "id": "188f6182",
   "metadata": {},
   "outputs": [
    {
     "name": "stdout",
     "output_type": "stream",
     "text": [
      "which year do you want to check?2000\n",
      "Leap year.\n"
     ]
    }
   ],
   "source": [
    "year=int(input(\"which year do you want to check?\"))\n",
    "if year % 4 == 0:\n",
    "    if year % 100 == 0:\n",
    "        if year % 400 == 0:\n",
    "            print(\"Leap year.\")\n",
    "        else:\n",
    "            print(\"Not leap year.\")\n",
    "    else:\n",
    "            print(\"Leap year.\")\n",
    "else:\n",
    "    print(\"Not leap year\")"
   ]
  },
  {
   "cell_type": "markdown",
   "id": "7ea2bdaf",
   "metadata": {},
   "source": [
    "# (\"mini calculator\")"
   ]
  },
  {
   "cell_type": "code",
   "execution_count": 29,
   "id": "627f6eae",
   "metadata": {},
   "outputs": [
    {
     "name": "stdout",
     "output_type": "stream",
     "text": [
      "enter any number: 4\n",
      "enter any number: 5\n",
      "press 1 for addition \n",
      " press 2 for substraction \n",
      " press 3 for multiplication \n",
      " press 4 for division\n",
      "enter your choice from 1 to 4 :2\n",
      "-1\n"
     ]
    }
   ],
   "source": [
    "num1 =int(input(\"enter any number: \"))\n",
    "num2 =int(input(\"enter any number: \"))\n",
    "print(\"press 1 for addition \\n press 2 for substraction \\n press 3 for multiplication \\n press 4 for division\")\n",
    "choice = int(input(\"enter your choice from 1 to 4 :\"))\n",
    "if choice == 1:\n",
    "    print(num1 + num2)\n",
    "elif choice == 2:\n",
    "    print(num1 - num2)\n",
    "elif choice == 3:\n",
    "    print(num1 * num2)\n",
    "elif choice == 4:\n",
    "    print(num1 / num2)\n",
    "else:\n",
    "    print(\"Invalid input\")\n"
   ]
  },
  {
   "cell_type": "markdown",
   "id": "513c3774",
   "metadata": {},
   "source": [
    "# BMI CALCULATOR "
   ]
  },
  {
   "cell_type": "code",
   "execution_count": 34,
   "id": "7355b6a2",
   "metadata": {},
   "outputs": [
    {
     "name": "stdout",
     "output_type": "stream",
     "text": [
      "enter your height in m: 1.68\n",
      "enter your weight in kg: 50\n",
      "17\n"
     ]
    }
   ],
   "source": [
    "\n",
    "height = input(\"enter your height in m: \")\n",
    "weight = input(\"enter your weight in kg: \")\n",
    "bmi= int(weight) / float(height) ** 2\n",
    "bmi_as_int =int(bmi)\n",
    "print(bmi_as_int)"
   ]
  },
  {
   "cell_type": "markdown",
   "id": "1074c8ca",
   "metadata": {},
   "source": [
    "# find odd even numbers"
   ]
  },
  {
   "cell_type": "code",
   "execution_count": 35,
   "id": "227b0438",
   "metadata": {},
   "outputs": [
    {
     "name": "stdout",
     "output_type": "stream",
     "text": [
      "eve [0, 2, 4, 6, 8, 10, 12, 14, 16, 18, 20, 22, 24, 26, 28, 30, 32, 34, 36, 38, 40, 42, 44, 46, 48, 50]\n",
      "odd [1, 3, 5, 7, 9, 11, 13, 15, 17, 19, 21, 23, 25, 27, 29, 31, 33, 35, 37, 39, 41, 43, 45, 47, 49]\n"
     ]
    }
   ],
   "source": [
    "eve=[]\n",
    "odd=[]\n",
    "for i in list(range(51)):\n",
    "    if i % 2 ==0:\n",
    "        eve.append(i)\n",
    "       \n",
    "    else:\n",
    "        odd.append(i)\n",
    "print(\"eve\",eve)\n",
    "print(\"odd\",odd)"
   ]
  },
  {
   "cell_type": "markdown",
   "id": "4731c68e",
   "metadata": {},
   "source": [
    "# factorial of first 10 numbers"
   ]
  },
  {
   "cell_type": "code",
   "execution_count": 36,
   "id": "bc0400f2",
   "metadata": {},
   "outputs": [
    {
     "name": "stdout",
     "output_type": "stream",
     "text": [
      "1 1\n",
      "2 2\n",
      "3 6\n",
      "4 24\n",
      "5 120\n",
      "6 720\n",
      "7 5040\n",
      "8 40320\n",
      "9 362880\n",
      "10 3628800\n"
     ]
    }
   ],
   "source": [
    "fact = 1\n",
    "for x in range(1,11):\n",
    "    fact=fact*x\n",
    "    print(x,fact)"
   ]
  },
  {
   "cell_type": "markdown",
   "id": "7944a0b1",
   "metadata": {},
   "source": [
    "# find odd_number from numbers from 1 to 10"
   ]
  },
  {
   "cell_type": "code",
   "execution_count": 37,
   "id": "1f0cc7d7",
   "metadata": {},
   "outputs": [
    {
     "name": "stdout",
     "output_type": "stream",
     "text": [
      "Odd numbers: [1, 3, 5, 7, 9]\n"
     ]
    }
   ],
   "source": [
    "# Original list containing numbers from 1 to 10\n",
    "original_list = list(range(1, 11))\n",
    "\n",
    "# Extracting only odd numbers using list comprehension\n",
    "odd_numbers = [num for num in original_list if num % 2 != 0]\n",
    "\n",
    "print(\"Odd numbers:\", odd_numbers)"
   ]
  },
  {
   "cell_type": "markdown",
   "id": "c07c8a94",
   "metadata": {},
   "source": [
    "# find even_number from numbers from 1 to 10"
   ]
  },
  {
   "cell_type": "code",
   "execution_count": 38,
   "id": "96569061",
   "metadata": {},
   "outputs": [
    {
     "name": "stdout",
     "output_type": "stream",
     "text": [
      "Even numbers: [2, 4, 6, 8, 10]\n"
     ]
    }
   ],
   "source": [
    "# Original list containing numbers from 1 to 10\n",
    "original_list = list(range(1, 11))\n",
    "\n",
    "# Extracting only even numbers using list comprehension\n",
    "even_numbers = [num for num in original_list if num % 2 == 0]\n",
    "\n",
    "print(\"Even numbers:\", even_numbers)"
   ]
  },
  {
   "cell_type": "code",
   "execution_count": null,
   "id": "0c789171",
   "metadata": {},
   "outputs": [],
   "source": []
  },
  {
   "cell_type": "code",
   "execution_count": 39,
   "id": "82500880",
   "metadata": {},
   "outputs": [
    {
     "data": {
      "text/plain": [
       "{'Apple': 20, 'Banana': 25, 'Cherry': 30}"
      ]
     },
     "execution_count": 39,
     "metadata": {},
     "output_type": "execute_result"
    }
   ],
   "source": [
    "#create a dictionary\n",
    "\n",
    "key = ['Apple','Banana','Cherry']\n",
    "value =[20,25,30]\n",
    "fruit_dict =dict(zip(key ,value))\n",
    "fruit_dict"
   ]
  },
  {
   "cell_type": "markdown",
   "id": "980ce73d",
   "metadata": {},
   "source": [
    "# write a Python program that checks if a given number is divisible by both 2 and 4, but not by 6."
   ]
  },
  {
   "cell_type": "code",
   "execution_count": 44,
   "id": "73d05b26",
   "metadata": {},
   "outputs": [
    {
     "name": "stdout",
     "output_type": "stream",
     "text": [
      "Enter a number: 16\n",
      "The number 16 is divisible by both 2 and 4, but not by 6.\n"
     ]
    }
   ],
   "source": [
    "def is_divisible_by_2_and_4_not_6(n):\n",
    "    return (n % 2 == 0) and (n % 4 == 0) and (n % 6 != 0)\n",
    "\n",
    "# Input from the user\n",
    "number = int(input(\"Enter a number: \"))\n",
    "\n",
    "# Check and print result\n",
    "if is_divisible_by_2_and_4_not_6(number):\n",
    "    print(f\"The number {number} is divisible by both 2 and 4, but not by 6.\")\n",
    "else:\n",
    "    print(f\"The number {number} does not meet the criteria.\")"
   ]
  },
  {
   "cell_type": "code",
   "execution_count": null,
   "id": "726725ef",
   "metadata": {},
   "outputs": [],
   "source": []
  }
 ],
 "metadata": {
  "kernelspec": {
   "display_name": "Python 3 (ipykernel)",
   "language": "python",
   "name": "python3"
  },
  "language_info": {
   "codemirror_mode": {
    "name": "ipython",
    "version": 3
   },
   "file_extension": ".py",
   "mimetype": "text/x-python",
   "name": "python",
   "nbconvert_exporter": "python",
   "pygments_lexer": "ipython3",
   "version": "3.11.5"
  }
 },
 "nbformat": 4,
 "nbformat_minor": 5
}
